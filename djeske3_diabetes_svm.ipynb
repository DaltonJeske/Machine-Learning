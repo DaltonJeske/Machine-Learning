{
 "cells": [
  {
   "cell_type": "code",
   "execution_count": 1,
   "id": "140174d6",
   "metadata": {},
   "outputs": [
    {
     "name": "stdout",
     "output_type": "stream",
     "text": [
      "<class 'pandas.core.frame.DataFrame'>\n",
      "RangeIndex: 768 entries, 0 to 767\n",
      "Data columns (total 9 columns):\n",
      " #   Column                    Non-Null Count  Dtype  \n",
      "---  ------                    --------------  -----  \n",
      " 0   Pregnancies               768 non-null    int64  \n",
      " 1   Glucose                   768 non-null    int64  \n",
      " 2   BloodPressure             768 non-null    int64  \n",
      " 3   SkinThickness             768 non-null    int64  \n",
      " 4   Insulin                   768 non-null    int64  \n",
      " 5   BMI                       768 non-null    float64\n",
      " 6   DiabetesPedigreeFunction  768 non-null    float64\n",
      " 7   Age                       768 non-null    int64  \n",
      " 8   Outcome                   768 non-null    int64  \n",
      "dtypes: float64(2), int64(7)\n",
      "memory usage: 54.1 KB\n"
     ]
    }
   ],
   "source": [
    "# Import libraries\n",
    "import pandas as pd\n",
    "from sklearn.model_selection import train_test_split\n",
    "from sklearn.preprocessing import StandardScaler\n",
    "from sklearn.svm import SVC\n",
    "from sklearn.metrics import classification_report, confusion_matrix\n",
    "\n",
    "# Import dataset\n",
    "df = pd.read_csv(r'C:\\Users\\jeske\\OneDrive\\Documents\\CVTCStuff\\Spring2024\\MachineLearning\\diabetes.csv')\n",
    "\n",
    "# Preview\n",
    "df.info()"
   ]
  },
  {
   "cell_type": "code",
   "execution_count": 4,
   "id": "090bb1cf",
   "metadata": {},
   "outputs": [
    {
     "name": "stdout",
     "output_type": "stream",
     "text": [
      "[[178  22]\n",
      " [ 48  60]]\n",
      "              precision    recall  f1-score   support\n",
      "\n",
      "           0       0.79      0.89      0.84       200\n",
      "           1       0.73      0.56      0.63       108\n",
      "\n",
      "    accuracy                           0.77       308\n",
      "   macro avg       0.76      0.72      0.73       308\n",
      "weighted avg       0.77      0.77      0.76       308\n",
      "\n"
     ]
    },
    {
     "data": {
      "text/plain": [
       "array([1], dtype=int64)"
      ]
     },
     "execution_count": 4,
     "metadata": {},
     "output_type": "execute_result"
    }
   ],
   "source": [
    "# Drop missing rows\n",
    "df.dropna(axis = 0, how = 'any', subset = None, inplace = True)\n",
    "\n",
    "# Scale independent variables by dropping the dependent variable (Outcome)\n",
    "scaler = StandardScaler()\n",
    "scaler.fit(df.drop('Outcome',axis=1))\n",
    "scaled_features = scaler.transform(df.drop('Outcome',axis=1))\n",
    "\n",
    "# Assign X and y variables\n",
    "X = scaled_features\n",
    "y = df['Outcome']\n",
    "\n",
    "# Split data into test and training sets\n",
    "X_train, X_test, y_train, y_test = train_test_split(X, y, test_size=0.4, shuffle=True)\n",
    "\n",
    "# Assign algorithm \n",
    "model = SVC()\n",
    "\n",
    "# Fit algorithm to data\n",
    "model.fit(X_train, y_train)\n",
    "\n",
    "# Run algorithm on test data to make predictions\n",
    "model_test = model.predict(X_test)\n",
    "\n",
    "# Evaluate predictions\n",
    "print(confusion_matrix(y_test, model_test)) \n",
    "print(classification_report(y_test, model_test))\n",
    "\n",
    "# Data point to predict\n",
    "outcome = [\n",
    "\t1, #Pregnancies\n",
    "\t89, #Glucose\n",
    "\t66, #BloodPressure \n",
    "\t23, #SkinThickness\n",
    "\t94, #Insulin    \n",
    "\t28.1, #BMI\n",
    "\t0.167, #DiabetesPredigreeFunction \n",
    "\t21, #Age\n",
    "]\n",
    "\n",
    "# Make prediction\n",
    "new_outcome = model.predict([outcome])\n",
    "new_outcome"
   ]
  },
  {
   "cell_type": "code",
   "execution_count": 5,
   "id": "be733da5",
   "metadata": {},
   "outputs": [
    {
     "data": {
      "text/plain": [
       "array([1], dtype=int64)"
      ]
     },
     "execution_count": 5,
     "metadata": {},
     "output_type": "execute_result"
    }
   ],
   "source": [
    "# Data point to predict\n",
    "outcome = [\n",
    "\t1, #Pregnancies\n",
    "\t89, #Glucose\n",
    "\t66, #BloodPressure \n",
    "\t23, #SkinThickness\n",
    "\t94, #Insulin    \n",
    "\t28.1, #BMI\n",
    "\t0.167, #DiabetesPredigreeFunction \n",
    "\t21, #Age\n",
    "]\n",
    "\n",
    "# Make prediction\n",
    "new_outcome = model.predict([outcome])\n",
    "new_outcome"
   ]
  },
  {
   "cell_type": "code",
   "execution_count": 6,
   "id": "30034673",
   "metadata": {},
   "outputs": [
    {
     "name": "stdout",
     "output_type": "stream",
     "text": [
      "[[178  22]\n",
      " [ 48  60]]\n",
      "              precision    recall  f1-score   support\n",
      "\n",
      "           0       0.79      0.89      0.84       200\n",
      "           1       0.73      0.56      0.63       108\n",
      "\n",
      "    accuracy                           0.77       308\n",
      "   macro avg       0.76      0.72      0.73       308\n",
      "weighted avg       0.77      0.77      0.76       308\n",
      "\n"
     ]
    },
    {
     "data": {
      "text/plain": [
       "array([1], dtype=int64)"
      ]
     },
     "execution_count": 6,
     "metadata": {},
     "output_type": "execute_result"
    }
   ],
   "source": [
    "# Evaluate predictions\n",
    "print(confusion_matrix(y_test, model_test)) \n",
    "print(classification_report(y_test, model_test))\n",
    "\n",
    "# Data point to predict\n",
    "outcome = [\n",
    "\t1, #Pregnancies\n",
    "\t89, #Glucose\n",
    "\t66, #BloodPressure \n",
    "\t23, #SkinThickness\n",
    "\t94, #Insulin    \n",
    "\t28.1, #BMI\n",
    "\t0.167, #DiabetesPredigreeFunction \n",
    "\t21, #Age\n",
    "]\n",
    "\n",
    "# Make prediction\n",
    "new_outcome = model.predict([outcome])\n",
    "new_outcome"
   ]
  },
  {
   "cell_type": "code",
   "execution_count": 7,
   "id": "d47dad6f",
   "metadata": {},
   "outputs": [
    {
     "name": "stdout",
     "output_type": "stream",
     "text": [
      "[[175  24]\n",
      " [ 54  55]]\n",
      "              precision    recall  f1-score   support\n",
      "\n",
      "           0       0.76      0.88      0.82       199\n",
      "           1       0.70      0.50      0.59       109\n",
      "\n",
      "    accuracy                           0.75       308\n",
      "   macro avg       0.73      0.69      0.70       308\n",
      "weighted avg       0.74      0.75      0.74       308\n",
      "\n"
     ]
    },
    {
     "data": {
      "text/plain": [
       "array([0], dtype=int64)"
      ]
     },
     "execution_count": 7,
     "metadata": {},
     "output_type": "execute_result"
    }
   ],
   "source": [
    "# Split data into test and training sets\n",
    "X_train, X_test, y_train, y_test = train_test_split(X, y, test_size=0.4, shuffle=True)\n",
    "\n",
    "# Assign algorithm \n",
    "model = SVC()\n",
    "\n",
    "# Fit algorithm to data\n",
    "model.fit(X_train, y_train)\n",
    "\n",
    "# Run algorithm on test data to make predictions\n",
    "model_test = model.predict(X_test)\n",
    "\n",
    "# Evaluate predictions\n",
    "print(confusion_matrix(y_test, model_test)) \n",
    "print(classification_report(y_test, model_test))\n",
    "\n",
    "# Data point to predict\n",
    "outcome = [\n",
    "\t1, #Pregnancies\n",
    "\t89, #Glucose\n",
    "\t66, #BloodPressure \n",
    "\t23, #SkinThickness\n",
    "\t94, #Insulin    \n",
    "\t28.1, #BMI\n",
    "\t0.167, #DiabetesPredigreeFunction \n",
    "\t21, #Age\n",
    "]\n",
    "\n",
    "# Make prediction\n",
    "new_outcome = model.predict([outcome])\n",
    "new_outcome"
   ]
  },
  {
   "cell_type": "code",
   "execution_count": null,
   "id": "483ab3c1",
   "metadata": {},
   "outputs": [],
   "source": []
  }
 ],
 "metadata": {
  "kernelspec": {
   "display_name": "Python 3 (ipykernel)",
   "language": "python",
   "name": "python3"
  },
  "language_info": {
   "codemirror_mode": {
    "name": "ipython",
    "version": 3
   },
   "file_extension": ".py",
   "mimetype": "text/x-python",
   "name": "python",
   "nbconvert_exporter": "python",
   "pygments_lexer": "ipython3",
   "version": "3.11.5"
  }
 },
 "nbformat": 4,
 "nbformat_minor": 5
}
