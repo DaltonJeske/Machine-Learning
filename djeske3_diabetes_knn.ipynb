{
 "cells": [
  {
   "cell_type": "code",
   "execution_count": 1,
   "id": "d23c9100",
   "metadata": {},
   "outputs": [
    {
     "name": "stdout",
     "output_type": "stream",
     "text": [
      "<class 'pandas.core.frame.DataFrame'>\n",
      "RangeIndex: 768 entries, 0 to 767\n",
      "Data columns (total 9 columns):\n",
      " #   Column                    Non-Null Count  Dtype  \n",
      "---  ------                    --------------  -----  \n",
      " 0   Pregnancies               768 non-null    int64  \n",
      " 1   Glucose                   768 non-null    int64  \n",
      " 2   BloodPressure             768 non-null    int64  \n",
      " 3   SkinThickness             768 non-null    int64  \n",
      " 4   Insulin                   768 non-null    int64  \n",
      " 5   BMI                       768 non-null    float64\n",
      " 6   DiabetesPedigreeFunction  768 non-null    float64\n",
      " 7   Age                       768 non-null    int64  \n",
      " 8   Outcome                   768 non-null    int64  \n",
      "dtypes: float64(2), int64(7)\n",
      "memory usage: 54.1 KB\n",
      "[[172  36]\n",
      " [ 39  61]]\n",
      "              precision    recall  f1-score   support\n",
      "\n",
      "           0       0.82      0.83      0.82       208\n",
      "           1       0.63      0.61      0.62       100\n",
      "\n",
      "    accuracy                           0.76       308\n",
      "   macro avg       0.72      0.72      0.72       308\n",
      "weighted avg       0.75      0.76      0.76       308\n",
      "\n"
     ]
    },
    {
     "name": "stderr",
     "output_type": "stream",
     "text": [
      "C:\\python\\anaconda3\\Lib\\site-packages\\sklearn\\base.py:464: UserWarning: X does not have valid feature names, but KNeighborsClassifier was fitted with feature names\n",
      "  warnings.warn(\n"
     ]
    },
    {
     "data": {
      "text/plain": [
       "array([0], dtype=int64)"
      ]
     },
     "execution_count": 1,
     "metadata": {},
     "output_type": "execute_result"
    }
   ],
   "source": [
    "# Import libraries\n",
    "import pandas as pd\n",
    "from sklearn.model_selection import train_test_split\n",
    "from sklearn.preprocessing import StandardScaler\n",
    "from sklearn.neighbors import KNeighborsClassifier\n",
    "from sklearn.metrics import classification_report, confusion_matrix\n",
    "\n",
    "# Import dataset\n",
    "df = pd.read_csv(r'C:\\Users\\jeske\\OneDrive\\Documents\\CVTCStuff\\Spring2024\\MachineLearning\\diabetes.csv')\n",
    "\n",
    "#Preview\n",
    "df.info()\n",
    "\n",
    "# Assign X and y variables\n",
    "X = df.drop('Outcome', axis = 1)\n",
    "y = df['Outcome']\n",
    "\n",
    "# Split data into test/train set (60/40 split) and shuffle\n",
    "X_train, X_test, y_train, y_test = train_test_split(X, y, test_size=0.4, shuffle=True)\n",
    "\n",
    "# Assign algorithm \n",
    "model = KNeighborsClassifier(n_neighbors=7)\n",
    "\n",
    "# Fit algorithm to data\n",
    "model.fit(X_train, y_train)\n",
    "\n",
    "# Run algorithm on test data to make predictions\n",
    "model_test = model.predict(X_test)\n",
    "\n",
    "# Evaluate predictions\n",
    "print(confusion_matrix(y_test, model_test))\n",
    "print(classification_report(y_test, model_test))\n",
    "\n",
    "# Data point to predict\n",
    "outcome = [\n",
    "\t1, #Pregnancies\n",
    "\t89, #Glucose\n",
    "\t66, #BloodPressure \n",
    "\t23, #SkinThickness\n",
    "\t94, #Insulin    \n",
    "\t28.1, #BMI\n",
    "\t0.167, #DiabetesPredigreeFunction \n",
    "\t21, #Age\n",
    "]\n",
    "\n",
    "# Make prediction\n",
    "new_outcome = model.predict([outcome])\n",
    "new_outcome"
   ]
  },
  {
   "cell_type": "code",
   "execution_count": 1,
   "id": "158d2dbd",
   "metadata": {},
   "outputs": [
    {
     "name": "stdout",
     "output_type": "stream",
     "text": [
      "<class 'pandas.core.frame.DataFrame'>\n",
      "RangeIndex: 768 entries, 0 to 767\n",
      "Data columns (total 9 columns):\n",
      " #   Column                    Non-Null Count  Dtype  \n",
      "---  ------                    --------------  -----  \n",
      " 0   Pregnancies               768 non-null    int64  \n",
      " 1   Glucose                   768 non-null    int64  \n",
      " 2   BloodPressure             768 non-null    int64  \n",
      " 3   SkinThickness             768 non-null    int64  \n",
      " 4   Insulin                   768 non-null    int64  \n",
      " 5   BMI                       768 non-null    float64\n",
      " 6   DiabetesPedigreeFunction  768 non-null    float64\n",
      " 7   Age                       768 non-null    int64  \n",
      " 8   Outcome                   768 non-null    int64  \n",
      "dtypes: float64(2), int64(7)\n",
      "memory usage: 54.1 KB\n",
      "[[176  38]\n",
      " [ 34  60]]\n",
      "              precision    recall  f1-score   support\n",
      "\n",
      "           0       0.84      0.82      0.83       214\n",
      "           1       0.61      0.64      0.62        94\n",
      "\n",
      "    accuracy                           0.77       308\n",
      "   macro avg       0.73      0.73      0.73       308\n",
      "weighted avg       0.77      0.77      0.77       308\n",
      "\n"
     ]
    },
    {
     "name": "stderr",
     "output_type": "stream",
     "text": [
      "C:\\python\\anaconda3\\Lib\\site-packages\\sklearn\\base.py:464: UserWarning: X does not have valid feature names, but KNeighborsClassifier was fitted with feature names\n",
      "  warnings.warn(\n"
     ]
    },
    {
     "data": {
      "text/plain": [
       "array([0], dtype=int64)"
      ]
     },
     "execution_count": 1,
     "metadata": {},
     "output_type": "execute_result"
    }
   ],
   "source": [
    "# Import libraries\n",
    "import pandas as pd\n",
    "from sklearn.model_selection import train_test_split\n",
    "from sklearn.preprocessing import StandardScaler\n",
    "from sklearn.neighbors import KNeighborsClassifier\n",
    "from sklearn.metrics import classification_report, confusion_matrix\n",
    "\n",
    "# Import dataset\n",
    "df = pd.read_csv(r'C:\\Users\\jeske\\OneDrive\\Documents\\CVTCStuff\\Spring2024\\MachineLearning\\diabetes.csv')\n",
    "\n",
    "#Preview\n",
    "df.info()\n",
    "\n",
    "# Assign X and y variables\n",
    "X = df.drop('Outcome', axis = 1)\n",
    "y = df['Outcome']\n",
    "\n",
    "# Split data into test/train set (60/40 split) and shuffle\n",
    "X_train, X_test, y_train, y_test = train_test_split(X, y, test_size=0.4, shuffle=True)\n",
    "\n",
    "# Assign algorithm \n",
    "model = KNeighborsClassifier(n_neighbors=7)\n",
    "\n",
    "# Fit algorithm to data\n",
    "model.fit(X_train, y_train)\n",
    "\n",
    "# Run algorithm on test data to make predictions\n",
    "model_test = model.predict(X_test)\n",
    "\n",
    "# Evaluate predictions\n",
    "print(confusion_matrix(y_test, model_test))\n",
    "print(classification_report(y_test, model_test))\n",
    "\n",
    "# Data point to predict\n",
    "outcome = [\n",
    "\t1, #Pregnancies\n",
    "\t89, #Glucose\n",
    "\t66, #BloodPressure \n",
    "\t23, #SkinThickness\n",
    "\t94, #Insulin    \n",
    "\t28.1, #BMI\n",
    "\t0.167, #DiabetesPredigreeFunction \n",
    "\t21, #Age\n",
    "]\n",
    "\n",
    "# Make prediction\n",
    "new_outcome = model.predict([outcome])\n",
    "new_outcome"
   ]
  },
  {
   "cell_type": "code",
   "execution_count": null,
   "id": "84ee7184",
   "metadata": {},
   "outputs": [],
   "source": []
  }
 ],
 "metadata": {
  "kernelspec": {
   "display_name": "Python 3 (ipykernel)",
   "language": "python",
   "name": "python3"
  },
  "language_info": {
   "codemirror_mode": {
    "name": "ipython",
    "version": 3
   },
   "file_extension": ".py",
   "mimetype": "text/x-python",
   "name": "python",
   "nbconvert_exporter": "python",
   "pygments_lexer": "ipython3",
   "version": "3.11.5"
  }
 },
 "nbformat": 4,
 "nbformat_minor": 5
}
