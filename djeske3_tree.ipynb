{
 "cells": [
  {
   "cell_type": "code",
   "execution_count": 1,
   "id": "7707678e",
   "metadata": {},
   "outputs": [
    {
     "name": "stdout",
     "output_type": "stream",
     "text": [
      "Training Set Mean Absolute Error: 668.86\n",
      "Test Set Mean Absolute Error: 256547.79\n",
      "Making predictions for the following 5 houses:\n",
      "    Rooms  Bathroom  Landsize  Lattitude  Longtitude\n",
      "2       2       1.0     156.0   -37.8079    144.9934\n",
      "4       3       2.0     134.0   -37.8093    144.9944\n",
      "6       4       1.0     120.0   -37.8072    144.9941\n",
      "11      3       2.0     245.0   -37.8024    144.9993\n",
      "14      2       1.0     256.0   -37.8060    144.9954\n",
      "The predictions are\n",
      "[1170000. 1465000.  905000. 1876000. 1636000.]\n"
     ]
    },
    {
     "name": "stderr",
     "output_type": "stream",
     "text": [
      "C:\\Users\\jeske\\AppData\\Local\\Temp\\ipykernel_9928\\1555006616.py:9: UserWarning: Pandas doesn't allow columns to be created via a new attribute name - see https://pandas.pydata.org/pandas-docs/stable/indexing.html#attribute-access\n",
      "  df.melbourne_data = pd.read_csv('~/Downloads/archive (4)/Melbourne_housing_FULL.csv')\n"
     ]
    }
   ],
   "source": [
    "# Import libraries\n",
    "import pandas as pd \n",
    "from sklearn.model_selection import train_test_split\n",
    "from sklearn.tree import DecisionTreeRegressor\n",
    "from sklearn.metrics import mean_absolute_error\n",
    "\n",
    "#Read in Melbourne data from CSV\n",
    "df = pd.read_csv('~/Downloads/archive (4)/Melbourne_housing_FULL.csv')\n",
    "df.melbourne_data = pd.read_csv('~/Downloads/archive (4)/Melbourne_housing_FULL.csv')\n",
    "\n",
    "# Drop missing rows\n",
    "df.melbourne_data.dropna(axis = 0, how = 'any', subset = None, inplace = True)\n",
    "\n",
    "# Assign the X variable to Rooms, Bathroom, Landsize, Lattitude, and Longtitude\n",
    "melbourne_features = ['Rooms', 'Bathroom', 'Landsize', 'Lattitude', 'Longtitude']\n",
    "X = df.melbourne_data[melbourne_features]\n",
    "\n",
    "# Assign the Y variable as price\n",
    "y = df.melbourne_data['Price']\n",
    "\n",
    "# Split data into test/train set (70/30 split) and shuffle\n",
    "X_train, X_test, y_train, y_test = train_test_split(X, y, test_size=0.3, shuffle=True)\n",
    "\n",
    "# Assign algorithm\n",
    "melbourne_model = DecisionTreeRegressor()\n",
    "\n",
    "# Link algorithm to X and y variables\n",
    "melbourne_model.fit(X_train, y_train)\n",
    "\n",
    "# Check prediction error for training data using MAE\n",
    "mae_train = mean_absolute_error(y_train, melbourne_model.predict(X_train))\n",
    "print (\"Training Set Mean Absolute Error: %.2f\" % mae_train)\n",
    "\n",
    "# Check prediction error for test data using MAE\n",
    "mae_test = mean_absolute_error(y_test, melbourne_model.predict(X_test))\n",
    "print (\"Test Set Mean Absolute Error: %.2f\" % mae_test)\n",
    "\n",
    "# Predict the prices of the first 5 houses\n",
    "print(\"Making predictions for the following 5 houses:\")\n",
    "print(X.head())\n",
    "print(\"The predictions are\")\n",
    "print(melbourne_model.predict(X.head()))"
   ]
  },
  {
   "cell_type": "code",
   "execution_count": null,
   "id": "d175d44b",
   "metadata": {},
   "outputs": [],
   "source": []
  }
 ],
 "metadata": {
  "kernelspec": {
   "display_name": "Python 3 (ipykernel)",
   "language": "python",
   "name": "python3"
  },
  "language_info": {
   "codemirror_mode": {
    "name": "ipython",
    "version": 3
   },
   "file_extension": ".py",
   "mimetype": "text/x-python",
   "name": "python",
   "nbconvert_exporter": "python",
   "pygments_lexer": "ipython3",
   "version": "3.11.5"
  }
 },
 "nbformat": 4,
 "nbformat_minor": 5
}
